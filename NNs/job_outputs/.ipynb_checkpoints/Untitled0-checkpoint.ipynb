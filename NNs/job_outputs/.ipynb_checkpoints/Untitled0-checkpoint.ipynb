{
 "metadata": {
  "name": "",
  "signature": "sha256:da8388a6c820b119f5af388081543963f998c3221fdd9417df30379828450675"
 },
 "nbformat": 3,
 "nbformat_minor": 0,
 "worksheets": [
  {
   "cells": [
    {
     "cell_type": "code",
     "collapsed": false,
     "input": [
      "import numpy as np"
     ],
     "language": "python",
     "metadata": {},
     "outputs": [],
     "prompt_number": 1
    },
    {
     "cell_type": "code",
     "collapsed": false,
     "input": [
      "train_features = np.loadtxt('../GM12878_200bp_Data_3Cl_l2normalized_TrainSet.txt')\n",
      "valid_features = np.loadtxt('../GM12878_200bp_Data_3Cl_l2normalized_ValidSet.txt')\n",
      "test_features = np.loadtxt('../GM12878_200bp_Data_3Cl_l2normalized_TestSet.txt')\n",
      "train_labels = np.loadtxt('../GM12878_200bp_Classes_3Cl_l2normalized_TrainSet.txt', dtype='str')\n",
      "valid_labels = np.loadtxt('../GM12878_200bp_Classes_3Cl_l2normalized_ValidSet.txt', dtype='str')\n",
      "test_labels = np.loadtxt('../GM12878_200bp_Classes_3Cl_l2normalized_TestSet.txt', dtype='str')"
     ],
     "language": "python",
     "metadata": {},
     "outputs": [],
     "prompt_number": 5
    },
    {
     "cell_type": "code",
     "collapsed": false,
     "input": [
      "print train_labels[0], train_labels[-1], train_labels[900]"
     ],
     "language": "python",
     "metadata": {},
     "outputs": [
      {
       "output_type": "stream",
       "stream": "stdout",
       "text": [
        "EnhancerActive PromoterActive EnhancerInactive+PromoterInactive+Exon+Unknown\n"
       ]
      }
     ],
     "prompt_number": 11
    },
    {
     "cell_type": "code",
     "collapsed": false,
     "input": [
      "map_labels = ['EnhancerInactive+PromoterInactive+Exon+Unknown', 'PromoterActive', 'EnhancerActive']\n",
      "for i in xrange(len(map_labels)):\n",
      "    ind_train = train_labels == map_labels[i]\n",
      "    train_labels[ind_train] = i\n",
      "    ind_valid = valid_labels == map_labels[i]\n",
      "    valid_labels[ind_valid] = i\n",
      "    ind_test = test_labels == map_labels[i]\n",
      "    test_labels[ind_test] = i        "
     ],
     "language": "python",
     "metadata": {},
     "outputs": [],
     "prompt_number": 12
    },
    {
     "cell_type": "code",
     "collapsed": false,
     "input": [
      "# write matrices to text files\n",
      "toMove = int(0.8 * 718)\n",
      "inds_toMove = []\n",
      "count_0, count_1, count_2 = [0, 0, 0]\n",
      "for i in xrange(len(valid_labels)):\n",
      "    label = valid_labels[i]\n",
      "    if label == '0':\n",
      "        if count_0 < toMove:\n",
      "            inds_toMove.append(i)\n",
      "            count_0 += 1\n",
      "    elif label == '1':\n",
      "        if count_1 < toMove:\n",
      "            inds_toMove.append(i)\n",
      "            count_1 += 1\n",
      "    elif label == '2':\n",
      "        if count_2 < toMove:\n",
      "            inds_toMove.append(i)\n",
      "            count_2 += 1\n"
     ],
     "language": "python",
     "metadata": {},
     "outputs": [],
     "prompt_number": 26
    },
    {
     "cell_type": "code",
     "collapsed": false,
     "input": [
      "inds_toKeep = np.asarray([True]*len(valid_features), dtype='bool')\n",
      "inds_toKeep[inds_toMove] = False\n",
      "print len(valid_features[inds_toMove])\n",
      "print len(valid_features[inds_toKeep])"
     ],
     "language": "python",
     "metadata": {},
     "outputs": [
      {
       "output_type": "stream",
       "stream": "stdout",
       "text": [
        "1722\n",
        "434\n"
       ]
      }
     ],
     "prompt_number": 30
    },
    {
     "cell_type": "code",
     "collapsed": false,
     "input": [],
     "language": "python",
     "metadata": {},
     "outputs": []
    }
   ],
   "metadata": {}
  }
 ]
}