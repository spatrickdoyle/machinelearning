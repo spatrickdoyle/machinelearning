{
 "metadata": {
  "name": "",
  "signature": "sha256:fca582f1cd6968292c95593d2dfa697583c5b8e2f55c91c40c3dbb89504f57ad"
 },
 "nbformat": 3,
 "nbformat_minor": 0,
 "worksheets": [
  {
   "cells": [
    {
     "cell_type": "code",
     "collapsed": false,
     "input": [
      "import numpy as np\n",
      "from scipy import misc"
     ],
     "language": "python",
     "metadata": {},
     "outputs": [],
     "prompt_number": 10
    },
    {
     "cell_type": "code",
     "collapsed": false,
     "input": [
      "train_features = np.loadtxt('../GM12878_200bp_Data_3Cl_l2normalized_TrainSet.txt')\n",
      "valid_features = np.loadtxt('../GM12878_200bp_Data_3Cl_l2normalized_ValidSet.txt')\n",
      "test_features = np.loadtxt('../GM12878_200bp_Data_3Cl_l2normalized_TestSet.txt')\n",
      "train_labels = np.loadtxt('../GM12878_200bp_Classes_3Cl_l2normalized_TrainSet.txt', dtype='str')\n",
      "valid_labels = np.loadtxt('../GM12878_200bp_Classes_3Cl_l2normalized_ValidSet.txt', dtype='str')\n",
      "test_labels = np.loadtxt('../GM12878_200bp_Classes_3Cl_l2normalized_TestSet.txt', dtype='str')"
     ],
     "language": "python",
     "metadata": {},
     "outputs": [],
     "prompt_number": 2
    },
    {
     "cell_type": "code",
     "collapsed": false,
     "input": [
      "print train_labels[0], train_labels[-1], train_labels[900]"
     ],
     "language": "python",
     "metadata": {},
     "outputs": [
      {
       "output_type": "stream",
       "stream": "stdout",
       "text": [
        "EnhancerActive PromoterActive EnhancerInactive+PromoterInactive+Exon+Unknown\n"
       ]
      }
     ],
     "prompt_number": 3
    },
    {
     "cell_type": "code",
     "collapsed": false,
     "input": [
      "map_labels = ['EnhancerInactive+PromoterInactive+Exon+Unknown', 'PromoterActive', 'EnhancerActive']\n",
      "for i in xrange(len(map_labels)):\n",
      "    ind_train = train_labels == map_labels[i]\n",
      "    train_labels[ind_train] = i\n",
      "    ind_valid = valid_labels == map_labels[i]\n",
      "    valid_labels[ind_valid] = i\n",
      "    ind_test = test_labels == map_labels[i]\n",
      "    test_labels[ind_test] = i        "
     ],
     "language": "python",
     "metadata": {},
     "outputs": [],
     "prompt_number": 4
    },
    {
     "cell_type": "code",
     "collapsed": false,
     "input": [
      "train_valid_labels = np.asarray(list(train_labels) + list(valid_labels))\n",
      "train_valid_features = np.row_stack((train_features, valid_features))"
     ],
     "language": "python",
     "metadata": {},
     "outputs": [],
     "prompt_number": 17
    },
    {
     "cell_type": "code",
     "collapsed": false,
     "input": [
      "train_valid_labels"
     ],
     "language": "python",
     "metadata": {},
     "outputs": [
      {
       "metadata": {},
       "output_type": "pyout",
       "prompt_number": 19,
       "text": [
        "array(['2', '2', '2', ..., '1', '1', '1'], \n",
        "      dtype='|S1')"
       ]
      }
     ],
     "prompt_number": 19
    },
    {
     "cell_type": "code",
     "collapsed": false,
     "input": [
      "path = 'PromoterEnhancerFeaturesFiles/'\n",
      "with open('TrainValid.caffe', 'w') as wfile:\n",
      "    for i in xrange(len(train_valid_features)):\n",
      "        feat = train_valid_features[i]\n",
      "        label = train_valid_labels[i]\n",
      "        filename  = path + str(i) + '.png'\n",
      "        wfile.write(' '.join([filename, str(label)]) + '\\n')\n",
      "        misc.imsave(filename, np.reshape(feat, (1, len(feat))))"
     ],
     "language": "python",
     "metadata": {},
     "outputs": [],
     "prompt_number": 20
    },
    {
     "cell_type": "code",
     "collapsed": false,
     "input": [
      "path = 'PromoterEnhancerFeaturesFiles/'\n",
      "with open('Test.caffe', 'w') as wfile:\n",
      "    for i in xrange(len(test_features)):\n",
      "        feat = test_features[i]\n",
      "        label = test_labels[i]\n",
      "        filename  = path + str(i + 4312) + '.png'\n",
      "        wfile.write(' '.join([filename, str(label)]) + '\\n')\n",
      "        misc.imsave(filename, np.reshape(feat, (1, len(feat))))"
     ],
     "language": "python",
     "metadata": {},
     "outputs": [],
     "prompt_number": 21
    },
    {
     "cell_type": "code",
     "collapsed": false,
     "input": [
      "# write matrices to text files\n",
      "toMove = int(0.8 * 718)\n",
      "inds_toMove = []\n",
      "count_0, count_1, count_2 = [0, 0, 0]\n",
      "for i in xrange(len(valid_labels)):\n",
      "    label = valid_labels[i]\n",
      "    if label == '0':\n",
      "        if count_0 < toMove:\n",
      "            inds_toMove.append(i)\n",
      "            count_0 += 1\n",
      "    elif label == '1':\n",
      "        if count_1 < toMove:\n",
      "            inds_toMove.append(i)\n",
      "            count_1 += 1\n",
      "    elif label == '2':\n",
      "        if count_2 < toMove:\n",
      "            inds_toMove.append(i)\n",
      "            count_2 += 1\n"
     ],
     "language": "python",
     "metadata": {},
     "outputs": [],
     "prompt_number": 26
    },
    {
     "cell_type": "code",
     "collapsed": false,
     "input": [
      "inds_toKeep = np.asarray([True]*len(valid_features), dtype='bool')\n",
      "inds_toKeep[inds_toMove] = False\n",
      "print len(valid_features[inds_toMove])\n",
      "print len(valid_features[inds_toKeep])"
     ],
     "language": "python",
     "metadata": {},
     "outputs": [
      {
       "output_type": "stream",
       "stream": "stdout",
       "text": [
        "1722\n",
        "434\n"
       ]
      }
     ],
     "prompt_number": 30
    },
    {
     "cell_type": "code",
     "collapsed": false,
     "input": [],
     "language": "python",
     "metadata": {},
     "outputs": []
    }
   ],
   "metadata": {}
  }
 ]
}