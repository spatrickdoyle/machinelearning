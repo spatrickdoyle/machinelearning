{
 "metadata": {
  "name": "",
  "signature": "sha256:8334e6f9fa4bb5a7ae334e7cd72bfaee324c196c60cb28b342ce97cfda33f9aa"
 },
 "nbformat": 3,
 "nbformat_minor": 0,
 "worksheets": []
}