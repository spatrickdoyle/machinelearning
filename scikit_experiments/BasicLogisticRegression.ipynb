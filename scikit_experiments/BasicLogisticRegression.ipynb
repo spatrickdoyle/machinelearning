{
 "metadata": {
  "name": "",
  "signature": "sha256:19174d5e0d2f7bf072c604d911173d7389cb2af16982668e4e56b1daf52d86ff"
 },
 "nbformat": 3,
 "nbformat_minor": 0,
 "worksheets": [
  {
   "cells": [
    {
     "cell_type": "markdown",
     "metadata": {},
     "source": [
      "Basic Logistic Regression with scikit. Start by loading the iris dataset, logistic regression, and auxilliary function for split data into training and testing."
     ]
    },
    {
     "cell_type": "code",
     "collapsed": false,
     "input": [
      "from sklearn.datasets import load_iris\n",
      "from sklearn.linear_model import LogisticRegression\n",
      "from sklearn.cross_validation import train_test_split\n",
      "from sklearn.metrics import accuracy_score\n",
      "import numpy as np"
     ],
     "language": "python",
     "metadata": {},
     "outputs": [],
     "prompt_number": 22
    },
    {
     "cell_type": "markdown",
     "metadata": {},
     "source": [
      "load the iris data"
     ]
    },
    {
     "cell_type": "code",
     "collapsed": false,
     "input": [
      "iris = load_iris()\n",
      "X = iris.data\n",
      "y = iris.target\n",
      "print \"shape of our feature matrix: \", np.shape(X)\n",
      "print \"the set of labels: \", set(y)"
     ],
     "language": "python",
     "metadata": {},
     "outputs": [
      {
       "output_type": "stream",
       "stream": "stdout",
       "text": [
        "shape of our feature matrix:  (150, 4)\n",
        "the set of labels:  set([0, 1, 2])\n"
       ]
      }
     ],
     "prompt_number": 11
    },
    {
     "cell_type": "markdown",
     "metadata": {},
     "source": [
      "split X and y into training and testing data and train a logistic regression"
     ]
    },
    {
     "cell_type": "code",
     "collapsed": false,
     "input": [
      "X_train, X_test, y_train, y_test = train_test_split(X, y, test_size=0.3)\n",
      "clf = LogisticRegression()\n",
      "clf = clf.fit(X_train, y_train)\n",
      "print \"training accuracy: \", accuracy_score(y_train, clf.predict(X_train))"
     ],
     "language": "python",
     "metadata": {},
     "outputs": [
      {
       "output_type": "stream",
       "stream": "stdout",
       "text": [
        "training accuracy:  0.971428571429\n"
       ]
      }
     ],
     "prompt_number": 24
    },
    {
     "cell_type": "markdown",
     "metadata": {},
     "source": [
      "test the logistic regression"
     ]
    },
    {
     "cell_type": "code",
     "collapsed": false,
     "input": [
      "y_true, y_pred = y_test, clf.predict(X_test)\n",
      "print \"test accuracy: \", accuracy_score(y_true, y_pred)"
     ],
     "language": "python",
     "metadata": {},
     "outputs": [
      {
       "output_type": "stream",
       "stream": "stdout",
       "text": [
        "accuracy:  0.977777777778\n"
       ]
      }
     ],
     "prompt_number": 23
    },
    {
     "cell_type": "markdown",
     "metadata": {},
     "source": [
      "Let's look at the weights on each feature"
     ]
    },
    {
     "cell_type": "code",
     "collapsed": false,
     "input": [
      "clf.coef_"
     ],
     "language": "python",
     "metadata": {},
     "outputs": [
      {
       "metadata": {},
       "output_type": "pyout",
       "prompt_number": 26,
       "text": [
        "array([[ 0.40924249,  1.34772065, -2.11225247, -0.94972974],\n",
        "       [ 0.32754302, -1.42792487,  0.62109494, -1.25305748],\n",
        "       [-1.51300041, -1.23506493,  2.08798306,  2.22082279]])"
       ]
      }
     ],
     "prompt_number": 26
    },
    {
     "cell_type": "markdown",
     "metadata": {},
     "source": [
      "what if we use a strong L1 penalty?"
     ]
    },
    {
     "cell_type": "code",
     "collapsed": false,
     "input": [
      "clf_L1 = LogisticRegression(penalty='l1', C=0.1)\n",
      "clf_L1 = clf_L1.fit(X_train, y_train)\n",
      "print \"training accuracy: \", accuracy_score(y_train, clf_L1.predict(X_train))\n",
      "y_true, y_pred = y_test, clf_L1.predict(X_test)\n",
      "print \"test accuracy: \", accuracy_score(y_true, y_pred)\n",
      "print \"weights after L1 penalty: \", clf_L1.coef_"
     ],
     "language": "python",
     "metadata": {},
     "outputs": [
      {
       "output_type": "stream",
       "stream": "stdout",
       "text": [
        "training accuracy:  0.809523809524\n",
        "test accuracy:  0.8\n",
        "weights after L1 penalty:  [[ 0.          0.94717208 -1.13604929  0.        ]\n",
        " [ 0.         -0.34956193  0.09768871  0.        ]\n",
        " [-0.73751866  0.          0.93240556  0.        ]]\n"
       ]
      }
     ],
     "prompt_number": 28
    },
    {
     "cell_type": "markdown",
     "metadata": {},
     "source": [
      "based on the these weights and the resulting accuracy, what can we say about feature#4?"
     ]
    }
   ],
   "metadata": {}
  }
 ]
}